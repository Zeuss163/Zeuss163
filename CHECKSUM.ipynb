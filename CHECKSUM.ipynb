{
 "cells": [
  {
   "cell_type": "code",
   "execution_count": 19,
   "id": "6db660e6",
   "metadata": {},
   "outputs": [
    {
     "name": "stdout",
     "output_type": "stream",
     "text": [
      "enter the first subunit:10101001\n",
      "enter the second subunit: 00111001\n",
      "00011101\n"
     ]
    }
   ],
   "source": [
    "s1=input(\"enter the first subunit:\")\n",
    "s2=input(\"enter the second subunit: \")\n",
    "s1=s1[::-1]\n",
    "s2=s2[::-1]\n",
    "res=\"\"\n",
    "c='0'\n",
    "for i,j in zip(s1,s2):\n",
    "    if i=='0' and j=='0' and c=='0':\n",
    "        res+='0'\n",
    "        c='0'\n",
    "    elif i=='0' and j=='0' and c=='1':\n",
    "        res+='1'\n",
    "        c='0'\n",
    "    elif i=='1' and j=='0' and c=='0':\n",
    "        res+='1'\n",
    "        c='0'\n",
    "    elif i=='0' and j=='1' and c=='0':\n",
    "        res+='1'\n",
    "        c='0'\n",
    "    elif i=='1' and j=='0' and c=='1':\n",
    "        res+='0'\n",
    "        c='1'\n",
    "    elif i=='0' and j=='1' and c=='1':\n",
    "        res+='0'\n",
    "        c='1'\n",
    "    elif i=='1' and j=='1' and c=='0':\n",
    "        res+='0'\n",
    "        c='1'    \n",
    "    else:\n",
    "        res+='1'\n",
    "        c='1'\n",
    "res+=c;\n",
    "res=res[::-1]\n",
    "if(res[0]=='0'):\n",
    "    res=res[1::]\n",
    "ans=\"\"\n",
    "n=len(res)\n",
    "for i in res:\n",
    "    if(i=='1'):\n",
    "        ans+='0'\n",
    "    else:\n",
    "        ans+='1'\n",
    "    \n",
    "print(ans)"
   ]
  },
  {
   "cell_type": "code",
   "execution_count": 17,
   "id": "aff2712e",
   "metadata": {},
   "outputs": [
    {
     "name": "stdout",
     "output_type": "stream",
     "text": [
      "hello\n"
     ]
    }
   ],
   "source": [
    "print(\"hello\")"
   ]
  },
  {
   "cell_type": "code",
   "execution_count": null,
   "id": "43fb5077",
   "metadata": {},
   "outputs": [],
   "source": []
  },
  {
   "cell_type": "code",
   "execution_count": null,
   "id": "4ef71bac",
   "metadata": {},
   "outputs": [],
   "source": []
  }
 ],
 "metadata": {
  "kernelspec": {
   "display_name": "Python 3 (ipykernel)",
   "language": "python",
   "name": "python3"
  },
  "language_info": {
   "codemirror_mode": {
    "name": "ipython",
    "version": 3
   },
   "file_extension": ".py",
   "mimetype": "text/x-python",
   "name": "python",
   "nbconvert_exporter": "python",
   "pygments_lexer": "ipython3",
   "version": "3.11.5"
  }
 },
 "nbformat": 4,
 "nbformat_minor": 5
}
